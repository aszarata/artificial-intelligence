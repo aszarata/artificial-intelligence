{
 "cells": [
  {
   "cell_type": "markdown",
   "metadata": {},
   "source": [
    "# Network test on mnist dataset"
   ]
  },
  {
   "cell_type": "code",
   "execution_count": 1,
   "metadata": {},
   "outputs": [],
   "source": [
    "import pandas as pd\n",
    "import numpy as np\n",
    "import matplotlib.pyplot as plt\n",
    "import cv2"
   ]
  },
  {
   "cell_type": "markdown",
   "metadata": {},
   "source": [
    "### Data import"
   ]
  },
  {
   "cell_type": "code",
   "execution_count": 2,
   "metadata": {},
   "outputs": [],
   "source": [
    "def bytes_to_pixels(image_bytes):\n",
    "    image_array = np.frombuffer(image_bytes, dtype=np.uint8)\n",
    "    image = cv2.imdecode(image_array, cv2.IMREAD_GRAYSCALE)\n",
    "    pixel_values = image.flatten()\n",
    "    return pixel_values"
   ]
  },
  {
   "cell_type": "code",
   "execution_count": 3,
   "metadata": {},
   "outputs": [],
   "source": [
    "training_data_path = 'train.parquet'\n",
    "test_data_path = 'test.parquet'"
   ]
  },
  {
   "cell_type": "code",
   "execution_count": 4,
   "metadata": {},
   "outputs": [],
   "source": [
    "percentage_of_dataset = 1"
   ]
  },
  {
   "cell_type": "code",
   "execution_count": 5,
   "metadata": {},
   "outputs": [
    {
     "name": "stdout",
     "output_type": "stream",
     "text": [
      "                                                  pixels  label\n",
      "0      [0, 0, 0, 0, 0, 0, 0, 0, 0, 0, 0, 0, 0, 0, 0, ...      5\n",
      "1      [0, 0, 0, 0, 0, 0, 0, 0, 0, 0, 0, 0, 0, 0, 0, ...      0\n",
      "2      [0, 0, 0, 0, 0, 0, 0, 0, 0, 0, 0, 0, 0, 0, 0, ...      4\n",
      "3      [0, 0, 0, 0, 0, 0, 0, 0, 0, 0, 0, 0, 0, 0, 0, ...      1\n",
      "4      [0, 0, 0, 0, 0, 0, 0, 0, 0, 0, 0, 0, 0, 0, 0, ...      9\n",
      "...                                                  ...    ...\n",
      "69995  [0, 0, 0, 0, 0, 0, 0, 0, 0, 0, 0, 0, 0, 0, 0, ...      2\n",
      "69996  [0, 0, 0, 0, 0, 0, 0, 0, 0, 0, 0, 0, 0, 0, 0, ...      3\n",
      "69997  [0, 0, 0, 0, 0, 0, 0, 0, 0, 0, 0, 0, 0, 0, 0, ...      4\n",
      "69998  [0, 0, 0, 0, 0, 0, 0, 0, 0, 0, 0, 0, 0, 0, 0, ...      5\n",
      "69999  [0, 0, 0, 0, 0, 0, 0, 0, 0, 0, 0, 0, 0, 0, 0, ...      6\n",
      "\n",
      "[70000 rows x 2 columns]\n"
     ]
    }
   ],
   "source": [
    "df1 = pd.read_parquet(training_data_path)\n",
    "\n",
    "df1['pixels'] = df1['image.bytes'].apply(bytes_to_pixels)\n",
    "\n",
    "df2 = pd.read_parquet(test_data_path)\n",
    "\n",
    "df2['pixels'] = df2['image.bytes'].apply(bytes_to_pixels)\n",
    "\n",
    "df = pd.concat([df1[: int(len(df1) * percentage_of_dataset)], df2[: int(len(df2) * percentage_of_dataset)]], ignore_index=True)\n",
    "\n",
    "\n",
    "print(df[['pixels', 'label']])"
   ]
  },
  {
   "cell_type": "code",
   "execution_count": 6,
   "metadata": {},
   "outputs": [
    {
     "data": {
      "image/png": "[encoded data removed]",
      "text/plain": [
       "<Figure size 640x480 with 1 Axes>"
      ]
     },
     "metadata": {},
     "output_type": "display_data"
    }
   ],
   "source": [
    "def draw_from_pixels(img):\n",
    "    first_image_pixels = img\n",
    "    image_shape = (28, 28)  \n",
    "\n",
    "    image_array = np.array(first_image_pixels).reshape(image_shape)\n",
    "\n",
    "    plt.imshow(image_array, cmap='gray')\n",
    "    plt.show()\n",
    "\n",
    "draw_from_pixels(df.loc[1, 'pixels'])"
   ]
  },
  {
   "cell_type": "markdown",
   "metadata": {},
   "source": [
    "## Dataset initialisation"
   ]
  },
  {
   "cell_type": "code",
   "execution_count": 7,
   "metadata": {},
   "outputs": [
    {
     "name": "stderr",
     "output_type": "stream",
     "text": [
      "/usr/lib/python3/dist-packages/scipy/__init__.py:146: UserWarning: A NumPy version >=1.17.3 and <1.25.0 is required for this version of SciPy (detected version 1.25.1\n",
      "  warnings.warn(f\"A NumPy version >={np_minversion} and <{np_maxversion}\"\n",
      "/home/andrzej/.local/lib/python3.10/site-packages/sklearn/preprocessing/_encoders.py:975: FutureWarning: `sparse` was renamed to `sparse_output` in version 1.2 and will be removed in 1.4. `sparse_output` is ignored unless you leave `sparse` to its default value.\n",
      "  warnings.warn(\n"
     ]
    },
    {
     "data": {
      "text/plain": [
       "((51771, 784), (51771, 10))"
      ]
     },
     "execution_count": 7,
     "metadata": {},
     "output_type": "execute_result"
    }
   ],
   "source": [
    "from sklearn.model_selection import train_test_split\n",
    "from sklearn.preprocessing import  OneHotEncoder\n",
    "\n",
    "\n",
    "X = df[['pixels', 'label']].copy()\n",
    "\n",
    "y = (X.pop('label')).astype(int).values.reshape(-1, 1)\n",
    "\n",
    "X = np.vstack(df['pixels'].values)\n",
    "\n",
    "train_valid_size = 0.14\n",
    "\n",
    "X_train, X_test, y_train, y_test = train_test_split(\n",
    "    X, y, \n",
    "    test_size=train_valid_size, \n",
    "    random_state=0, \n",
    "    shuffle=True, \n",
    "    stratify=y\n",
    ")\n",
    "X_train, X_valid, y_train, y_valid = train_test_split(\n",
    "    X_train, y_train, \n",
    "    test_size=train_valid_size, \n",
    "    random_state=0, \n",
    "    shuffle=True, \n",
    "    stratify=y_train\n",
    ")\n",
    "\n",
    "\n",
    "label_encoder = OneHotEncoder(sparse=False, handle_unknown='ignore')\n",
    "label_encoder.fit(y_train)\n",
    "\n",
    "y_train = label_encoder.transform(y_train)\n",
    "y_valid = label_encoder.transform(y_valid)\n",
    "y_test = label_encoder.transform(y_test)\n",
    "\n",
    "X_train.shape, y_train.shape"
   ]
  },
  {
   "cell_type": "markdown",
   "metadata": {},
   "source": [
    "## Multilayer neural network"
   ]
  },
  {
   "cell_type": "code",
   "execution_count": 8,
   "metadata": {},
   "outputs": [],
   "source": [
    "import sys\n",
    "sys.path.append('../network') \n",
    "from network import Network\n",
    "from layer import Layer"
   ]
  },
  {
   "cell_type": "code",
   "execution_count": 9,
   "metadata": {},
   "outputs": [],
   "source": [
    "learning_rate = 1e-3\n",
    "input_size = X_train.shape[1]\n",
    "output_size = y_train.shape[1]\n",
    "\n",
    "early_stopping_patience = 6\n",
    "\n",
    "model = Network()\n",
    "\n",
    "model.add_layer(Layer(input_size, 128, activation_function='relu', batch_norm_1d_size=128))\n",
    "model.add_layer(Layer(128, 128, activation_function='relu', batch_norm_1d_size=128))\n",
    "model.add_layer(Layer(128, output_size, activation_function='softmax'))\n",
    "\n",
    "model.early_stopping(early_stopping_patience=early_stopping_patience)"
   ]
  },
  {
   "cell_type": "code",
   "execution_count": 10,
   "metadata": {},
   "outputs": [
    {
     "name": "stdout",
     "output_type": "stream",
     "text": [
      "Epoch 0: loss = 0.08243601069574256\n",
      "Epoch 10: loss = 0.022889262328331876\n",
      "Epoch 20: loss = 0.022508155096539785\n"
     ]
    }
   ],
   "source": [
    "model.fit(X=X_train, y=y_train, learning_rate=learning_rate, epochs=200, verbose=1, batch_size=256)"
   ]
  },
  {
   "cell_type": "code",
   "execution_count": 25,
   "metadata": {},
   "outputs": [
    {
     "name": "stdout",
     "output_type": "stream",
     "text": [
      "Accuracy: 0.9075604530149984\n",
      "Confusion Matrix:\n",
      "[[ 943    0    1    1    3    7    4    0    5    2]\n",
      " [   0 1075   11    3    0   10    1    2    1    0]\n",
      " [  10    2  915   14   12    4    7    4    9    2]\n",
      " [   5    4   31  878    1   50    3    4   19    5]\n",
      " [   0    3   12    4  916    1    5    1    5    8]\n",
      " [  15    7    7   13    6  812    9    2    9    4]\n",
      " [  17    5    9    0    4   33  883    0   11    1]\n",
      " [   4    7   30    9   19    4    1  917    8   22]\n",
      " [  14   20   17   29    3   24    6    5  835    3]\n",
      " [  15    8    6   25  132   21    0   34   12  721]]\n",
      "Classification Report:\n",
      "              precision    recall  f1-score   support\n",
      "\n",
      "           0       0.92      0.98      0.95       966\n",
      "           1       0.95      0.97      0.96      1103\n",
      "           2       0.88      0.93      0.91       979\n",
      "           3       0.90      0.88      0.89      1000\n",
      "           4       0.84      0.96      0.89       955\n",
      "           5       0.84      0.92      0.88       884\n",
      "           6       0.96      0.92      0.94       963\n",
      "           7       0.95      0.90      0.92      1021\n",
      "           8       0.91      0.87      0.89       956\n",
      "           9       0.94      0.74      0.83       974\n",
      "\n",
      "    accuracy                           0.91      9801\n",
      "   macro avg       0.91      0.91      0.91      9801\n",
      "weighted avg       0.91      0.91      0.91      9801\n",
      "\n"
     ]
    }
   ],
   "source": [
    "from sklearn.metrics import  roc_auc_score\n",
    "from sklearn.metrics import accuracy_score, confusion_matrix, classification_report\n",
    "\n",
    "\n",
    "y_pred_test_score = model.predict(X_test)\n",
    "\n",
    "auroc = roc_auc_score(y_test, y_pred_test_score)\n",
    "\n",
    "\n",
    "y_true_flat = np.argmax(y_test, axis=1)\n",
    "y_pred_flat = np.argmax(y_pred_test_score, axis=1)\n",
    "\n",
    "accuracy = accuracy_score(y_true_flat, y_pred_flat)\n",
    "conf_matrix = confusion_matrix(y_true_flat, y_pred_flat)\n",
    "classification_rep = classification_report(y_true_flat, y_pred_flat)\n",
    "\n",
    "print(f\"Accuracy: {accuracy}\")\n",
    "print(\"Confusion Matrix:\")\n",
    "print(conf_matrix)\n",
    "print(\"Classification Report:\")\n",
    "print(classification_rep)\n",
    "#print(f\"AUROC: {100 * auroc:.2f}%\")"
   ]
  },
  {
   "cell_type": "markdown",
   "metadata": {},
   "source": [
    "### Save the model"
   ]
  },
  {
   "cell_type": "code",
   "execution_count": 12,
   "metadata": {},
   "outputs": [],
   "source": [
    "path = '../models/mnist1model.pickle'\n",
    "model.save(path)"
   ]
  },
  {
   "cell_type": "markdown",
   "metadata": {},
   "source": [
    "## Tests on self drawn numbers"
   ]
  },
  {
   "cell_type": "code",
   "execution_count": 13,
   "metadata": {},
   "outputs": [],
   "source": [
    "def preprocess_image(image_path):\n",
    "    img = cv2.imread(image_path, cv2.IMREAD_GRAYSCALE)\n",
    "    \n",
    "    img_resized = cv2.resize(img, (28, 28))\n",
    "    \n",
    "    img_normalized = img_resized.astype('float32') / 255.0\n",
    "\n",
    "    img_input = img_normalized.flatten().reshape(1, -1)\n",
    "    \n",
    "    return img_input"
   ]
  },
  {
   "cell_type": "code",
   "execution_count": 27,
   "metadata": {},
   "outputs": [
    {
     "data": {
      "image/png": "[encoded data removed]",
      "text/plain": [
       "<Figure size 640x480 with 1 Axes>"
      ]
     },
     "metadata": {},
     "output_type": "display_data"
    },
    {
     "name": "stdout",
     "output_type": "stream",
     "text": [
      "[[0. 0. 1. 0. 0. 0. 0. 0. 0. 0.]]\n"
     ]
    }
   ],
   "source": [
    "image_path = 'my_data/01.png'\n",
    "number_px = preprocess_image(image_path)\n",
    "\n",
    "draw_from_pixels(number_px)\n",
    "\n",
    "number_pred = model.predict(number_px)\n",
    "print(np.round(number_pred, 2))"
   ]
  },
  {
   "cell_type": "code",
   "execution_count": 15,
   "metadata": {},
   "outputs": [
    {
     "data": {
      "image/png": "[encoded data removed]",
      "text/plain": [
       "<Figure size 640x480 with 1 Axes>"
      ]
     },
     "metadata": {},
     "output_type": "display_data"
    },
    {
     "name": "stdout",
     "output_type": "stream",
     "text": [
      "[[0. 0. 0. 0. 0. 0. 0. 0. 1. 0.]]\n"
     ]
    }
   ],
   "source": [
    "image_path = 'my_data/11.png'\n",
    "number_px = preprocess_image(image_path)\n",
    "\n",
    "draw_from_pixels(number_px)\n",
    "\n",
    "number_pred = model.predict(number_px)\n",
    "print(np.round(number_pred, decimals=0))"
   ]
  },
  {
   "cell_type": "code",
   "execution_count": 16,
   "metadata": {},
   "outputs": [
    {
     "data": {
      "image/png": "[encoded data removed]",
      "text/plain": [
       "<Figure size 640x480 with 1 Axes>"
      ]
     },
     "metadata": {},
     "output_type": "display_data"
    },
    {
     "name": "stdout",
     "output_type": "stream",
     "text": [
      "[[0. 0. 1. 0. 0. 0. 0. 0. 0. 0.]]\n"
     ]
    }
   ],
   "source": [
    "image_path = 'my_data/21.png'\n",
    "number_px = preprocess_image(image_path)\n",
    "\n",
    "draw_from_pixels(number_px)\n",
    "\n",
    "number_pred = model.predict(number_px)\n",
    "print(number_pred)"
   ]
  },
  {
   "cell_type": "code",
   "execution_count": null,
   "metadata": {},
   "outputs": [],
   "source": []
  }
 ],
 "metadata": {
  "kernelspec": {
   "display_name": "Python 3",
   "language": "python",
   "name": "python3"
  },
  "language_info": {
   "codemirror_mode": {
    "name": "ipython",
    "version": 3
   },
   "file_extension": ".py",
   "mimetype": "text/x-python",
   "name": "python",
   "nbconvert_exporter": "python",
   "pygments_lexer": "ipython3",
   "version": "3.10.12"
  }
 },
 "nbformat": 4,
 "nbformat_minor": 2
}
